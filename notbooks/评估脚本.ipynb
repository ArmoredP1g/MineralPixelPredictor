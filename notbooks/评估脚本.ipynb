{
 "cells": [
  {
   "cell_type": "code",
   "execution_count": null,
   "metadata": {},
   "outputs": [],
   "source": [
    "import sys\n",
    "sys.path.append('../')\n",
    "from time import sleep\n",
    "from models.attention_series import Grade_regressor\n",
    "import spectral\n",
    "from configs.training_cfg import device\n",
    "import torch\n",
    "import ast\n",
    "import numpy as np\n",
    "from PIL import Image\n",
    "import pandas as pd\n",
    "from spectral import imshow\n",
    "from matplotlib.pyplot import MultipleLocator\n",
    "import matplotlib.pyplot as plt\n",
    "\n",
    "spectral.settings.envi_support_nonlowercase_params = True\n",
    "\n",
    "pre_list = []\n",
    "erro_list = []"
   ]
  },
  {
   "cell_type": "code",
   "execution_count": null,
   "metadata": {},
   "outputs": [],
   "source": [
    "# 测试样本绝对误差\n",
    "for k in range(1):\n",
    "    model = Grade_regressor().to(device).eval()\n",
    "    model.load_state_dict(torch.load(\"..\\\\ckpt\\\\粉末预训练_11000.pt\".format(k+1)))\n",
    "    result = []\n",
    "    err = 0\n",
    "    err_count = 0 \n",
    "    pool = torch.nn.AvgPool2d(9,9)\n",
    "    mask_rgb_values = [[255,242,0],[34,177,76],[255,0,88],[184,61,186]]\n",
    "\n",
    "    spec_id = [1,2,3,4,5,6,7,8,9,10,11,12,13,14,15,16,17,18,19,20,21,22,23,24,25,26,27]    # 选择评估的成像光谱图片编号\n",
    "\n",
    "\n",
    "    for id in spec_id:\n",
    "        img = spectral.envi.open(\"D:\\\\可见光粉末\\\\spectral_data\\{}-RadianceConversion-CorrectFromMeasuredReference.bip.hdr\".format(id))\n",
    "\n",
    "        # 根据模型使用波段选择\n",
    "        # img_data = torch.Tensor(img.asarray()/6000)[:,:,:-4]\n",
    "        img_data = torch.Tensor(img.asarray()/6000)[:,:,:]\n",
    "        mask = np.array(Image.open(\"D:\\\\可见光粉末\\\\spectral_data\\\\{}-RadianceConversion-CorrectFromMeasuredReference.bip.hdr_mask.png\".format(id)))\n",
    "        if mask.shape[2] == 4:\n",
    "            mask = mask[:,:,:-1]\n",
    "        gt_TFe = ast.literal_eval(img.metadata['gt_TFe'])\n",
    "        gt = torch.Tensor(gt_TFe)\n",
    "        gts = gt.__len__()\n",
    "\n",
    "        with torch.no_grad():\n",
    "            img_data = pool(img_data.permute(2,0,1)).permute(1,2,0)\n",
    "            row,col,_ = img_data.shape\n",
    "            heat_map = []\n",
    "\n",
    "            for i in range(row):\n",
    "                heat_map.append(model(img_data[i].to(device)).squeeze(1).unsqueeze(0).to(\"cpu\"))   # 只评估Tfe\n",
    "                torch.cuda.empty_cache()\n",
    "\n",
    "        heat_map = torch.cat(heat_map, dim=0)\n",
    "\n",
    "        predict_sum = torch.zeros(gts)\n",
    "        pixel_count = torch.zeros(gts)/1e5\n",
    "\n",
    "        for r in range(row):\n",
    "            for c in range(col):\n",
    "                for i in range(gts):\n",
    "                    if mask[r*9+4,c*9+4].tolist() == mask_rgb_values[i]:\n",
    "                        predict_sum[i] += heat_map[r,c] \n",
    "                        pixel_count[i] += 1\n",
    "\n",
    "        prediction = predict_sum / pixel_count * 100\n",
    "\n",
    "        err_list = ((prediction-gt)).tolist()\n",
    "        pred_list = (prediction).tolist()\n",
    "        for i in range(err_list.__len__()):\n",
    "            erro_list.append(round(err_list[i],2))\n",
    "            pre_list.append(round(pred_list[i], 2))\n",
    "            \n",
    "\n",
    "    # avg_err = err/(err_count)\n",
    "    # print(\"{}k  avgmse:{}\".format(k+1, avg_err))"
   ]
  },
  {
   "cell_type": "code",
   "execution_count": null,
   "metadata": {},
   "outputs": [],
   "source": [
    "prediction"
   ]
  },
  {
   "cell_type": "code",
   "execution_count": null,
   "metadata": {},
   "outputs": [],
   "source": [
    "erro_list"
   ]
  },
  {
   "cell_type": "code",
   "execution_count": null,
   "metadata": {},
   "outputs": [],
   "source": [
    "pre_list"
   ]
  }
 ],
 "metadata": {
  "kernelspec": {
   "display_name": "Python 3.8.13 ('VC')",
   "language": "python",
   "name": "python3"
  },
  "language_info": {
   "codemirror_mode": {
    "name": "ipython",
    "version": 3
   },
   "file_extension": ".py",
   "mimetype": "text/x-python",
   "name": "python",
   "nbconvert_exporter": "python",
   "pygments_lexer": "ipython3",
   "version": "3.8.13 (default, Mar 28 2022, 06:59:08) [MSC v.1916 64 bit (AMD64)]"
  },
  "orig_nbformat": 4,
  "vscode": {
   "interpreter": {
    "hash": "7ea0baf3925bd465c6aa19a150df9563e72327e2391888826ad84e3f30d35a1a"
   }
  }
 },
 "nbformat": 4,
 "nbformat_minor": 2
}
