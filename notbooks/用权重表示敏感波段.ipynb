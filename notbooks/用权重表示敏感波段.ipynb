{
 "cells": [
  {
   "cell_type": "code",
   "execution_count": 1,
   "metadata": {},
   "outputs": [],
   "source": [
    "import sys\n",
    "sys.path.append('../')\n",
    "from unicodedata import name\n",
    "from models.models import VisModel2\n",
    "import json\n",
    "import h5py\n",
    "import ast\n",
    "import numpy as np\n",
    "import spectral\n",
    "from spectral import imshow\n",
    "from PIL import Image\n",
    "spectral.settings.envi_support_nonlowercase_params = True\n",
    "from dataloaders.dataloaders import dataset_iron_balanced_mixed\n",
    "import matplotlib.pyplot as plt\n",
    "import torch\n",
    "import seaborn as sns\n",
    "from torch.utils.data import DataLoader\n",
    "from torch.utils.data  import random_split\n",
    "from trainer import train_regression\n",
    "from configs.training_cfg import *\n",
    "import torch\n",
    "import random\n",
    "import os\n",
    "import openpyxl\n",
    "\n",
    "torch.autograd.set_detect_anomaly(True)\n",
    "pool = torch.nn.AvgPool2d(3,3)\n",
    "mask_rgb_values = [[255,242,0],[34,177,76],[255,0,88]]"
   ]
  },
  {
   "cell_type": "code",
   "execution_count": 2,
   "metadata": {},
   "outputs": [],
   "source": [
    "def z_score_normalization(wave):\n",
    "    # 计算均值和标准差\n",
    "    mean_value = np.mean(wave)\n",
    "    std_value = np.std(wave)\n",
    "    # 按照公式进行归一化\n",
    "    wave_normalized = (wave - mean_value) / std_value\n",
    "    # 返回归一化后的张量\n",
    "    return wave_normalized\n",
    "\n",
    "# 定义一个最大最小归一化的函数\n",
    "def min_max_normalization(wave):\n",
    "    # 计算最大值和最小值\n",
    "    max_value = np.max(wave)\n",
    "    min_value = np.min(wave)\n",
    "    # 按照公式进行归一化\n",
    "    wave_normalized = (wave - min_value) / (max_value - min_value)\n",
    "    # 返回归一化后的张量\n",
    "    return wave_normalized"
   ]
  },
  {
   "cell_type": "code",
   "execution_count": 6,
   "metadata": {},
   "outputs": [
    {
     "data": {
      "text/plain": [
       "VisModel2(\n",
       "  (pool): AvgPool1d(kernel_size=(2,), stride=(2,), padding=(0,))\n",
       "  (conv_layer1): MultiScale_Conv(\n",
       "    (conv2): Conv1d(3, 12, kernel_size=(9,), stride=(1,), padding=(4,), padding_mode=reflect)\n",
       "    (conv3): Conv1d(3, 12, kernel_size=(13,), stride=(1,), padding=(6,), padding_mode=reflect)\n",
       "    (conv4): Conv1d(3, 12, kernel_size=(17,), stride=(1,), padding=(8,), padding_mode=reflect)\n",
       "    (conv1): Conv1d(3, 14, kernel_size=(5,), stride=(1,), padding=(2,), padding_mode=reflect)\n",
       "  )\n",
       "  (conv_layer2): Conv1d(50, 40, kernel_size=(3,), stride=(1,), padding=(1,), padding_mode=reflect)\n",
       "  (conv_layer3): Conv1d(40, 30, kernel_size=(3,), stride=(1,), padding=(1,), padding_mode=reflect)\n",
       "  (conv_layer4): Conv1d(30, 1, kernel_size=(1,), stride=(1,))\n",
       "  (output_layer_1): Linear(in_features=42, out_features=1, bias=True)\n",
       "  (ln1): LayerNorm((168,), eps=1e-05, elementwise_affine=True)\n",
       "  (ln2): LayerNorm((84,), eps=1e-05, elementwise_affine=True)\n",
       "  (ln3): LayerNorm((42,), eps=1e-05, elementwise_affine=True)\n",
       ")"
      ]
     },
     "execution_count": 6,
     "metadata": {},
     "output_type": "execute_result"
    }
   ],
   "source": [
    "# 加载模型\n",
    "model = VisModel2().to(device)\n",
    "model.load_state_dict(torch.load(\"D:\\\\source\\\\repos\\\\Pixel-wise-hyperspectral-feature-classification-experiment\\\\ckpt\\\\vismodel2\\\\fold0_step100000.pt\"))\n",
    "model.eval()"
   ]
  },
  {
   "cell_type": "code",
   "execution_count": 7,
   "metadata": {},
   "outputs": [
    {
     "data": {
      "image/png": "[encoded data removed]",
      "text/plain": [
       "<Figure size 2000x500 with 2 Axes>"
      ]
     },
     "metadata": {},
     "output_type": "display_data"
    }
   ],
   "source": [
    "\n",
    "\n",
    "\n",
    "\n",
    "\n",
    "fig = plt.figure(figsize=(20, 5))\n",
    "\n",
    "x_values = np.array([886.49, 891.36, 896.22, 901.09, 905.96, 910.83, 915.7, 920.57, 925.44, 930.32, 935.19, \n",
    "                     940.07, 944.95, 949.83, 954.71, 959.6, 964.48, 969.37, 974.26, 979.15, 984.04, 988.93, \n",
    "                     993.82, 998.72, 1003.62, 1008.51, 1013.41, 1018.32, 1023.22, 1028.12, 1033.03, 1037.93, \n",
    "                     1042.84, 1047.75, 1052.66, 1057.58, 1062.49, 1067.41, 1072.32, 1077.24, 1082.16, 1087.08, \n",
    "                     1092.01, 1096.93, 1101.86, 1106.79, 1111.71, 1116.64, 1121.58, 1126.51, 1131.44, 1136.38, \n",
    "                     1141.32, 1146.26, 1151.2, 1156.14, 1161.08, 1166.03, 1170.97, 1175.92, 1180.87, 1185.82, \n",
    "                     1190.77, 1195.73, 1200.68, 1205.64, 1210.6, 1215.56, 1220.52, 1225.48, 1230.44, 1235.41, \n",
    "                     1240.38, 1245.34, 1250.31, 1255.29, 1260.26, 1265.23, 1270.21, 1275.18, 1280.16, 1285.14, \n",
    "                     1290.12, 1295.11, 1300.09, 1305.08, 1310.06, 1315.05, 1320.04, 1325.03, 1330.03, 1335.02, \n",
    "                     1340.02, 1345.01, 1350.01, 1355.01, 1360.01, 1365.02, 1370.02, 1375.03, 1380.04, 1385.05, \n",
    "                     1390.06, 1395.07, 1400.08, 1405.1, 1410.11, 1415.13, 1420.15, 1425.17, 1430.19, 1435.22, \n",
    "                     1440.24, 1445.27, 1450.29, 1455.32, 1460.35, 1465.39, 1470.42, 1475.46, 1480.49, 1485.53, \n",
    "                     1490.57, 1495.61, 1500.65, 1505.7, 1510.74, 1515.79, 1520.84, 1525.89, 1530.94, 1535.99, \n",
    "                     1541.05, 1546.1, 1551.16, 1556.22, 1561.28, 1566.34, 1571.4, 1576.47, 1581.53, 1586.6, \n",
    "                     1591.67, 1596.74, 1601.81, 1606.88, 1611.96, 1617.03, 1622.11, 1627.19, 1632.27, 1637.35, \n",
    "                     1642.43, 1647.52, 1652.61, 1657.69, 1662.78, 1667.87, 1672.96, 1678.06, 1683.15, 1688.25, \n",
    "                     1693.35, 1698.45, 1703.55, 1708.65, 1713.75, 1718.86])\n",
    "\n",
    "heatmap_data = torch.abs(model.output_layer_1.weight.detach().cpu()).numpy()\n",
    "heatmap_data[heatmap_data < 0.1] = 0  # 将部分数据设置为0，以便后面可以显示为透明\n",
    "mask = heatmap_data == 0\n",
    "\n",
    "\n",
    "sns.heatmap(heatmap_data, cmap='rocket_r')\n",
    "\n",
    "# spec_data = data_tensor[0]['tensor'][idx].unsqueeze(0).squeeze(0).cpu().detach().numpy()\n",
    "# spec_data_diff1 = min_max_normalization(z_score_normalization(np.diff(spec_data, 1, axis=0)))\n",
    "# spec_data_diff2 = min_max_normalization(z_score_normalization(np.diff(spec_data, 2, axis=0)))\n",
    "# spec_data = min_max_normalization(z_score_normalization(spec_data))\n",
    "\n",
    "\n",
    "\n",
    "# # 添加曲线图\n",
    "# plt.plot(spec_data, color='blue', linewidth=1.5)\n",
    "# plt.plot(spec_data_diff1, color='green', linewidth=1.5)\n",
    "# plt.plot(spec_data_diff2, color='red', linewidth=1.5)\n",
    "\n",
    "# ticks = []\n",
    "# labels = []\n",
    "# cur_band = 900 # 第一个整百波长\n",
    "# for idx in range(x_values.__len__()):\n",
    "#     if x_values[idx] >= cur_band:\n",
    "#         ticks.append(idx)\n",
    "#         labels.append(str(cur_band))\n",
    "#         cur_band += 50\n",
    "#     else:\n",
    "#         continue\n",
    "\n",
    "\n",
    "# 设置x轴的标签\n",
    "# plt.xticks(ticks, labels, rotation='horizontal')  # 添加 rotation='horizontal' 使得x轴标签水平显示\n",
    "\n",
    "# 添加x轴的单位\n",
    "# plt.xlabel('Wavelength (nm)')  # 添加x轴的单位\n",
    "\n",
    "# 清除y轴的标签\n",
    "# plt.yticks([])  # 清除y轴的标签\n",
    "\n",
    "\n",
    "# 显示图表\n",
    "plt.show()\n",
    "\n",
    "# 保存图表，文件名称为{}.png, 其中{}为output保留3位小数的字符串\n",
    "# fig.savefig('可视化波段_赤铁矿/{}.png'.format(round(output, 5)), dpi=300, bbox_inches='tight')\n"
   ]
  },
  {
   "cell_type": "code",
   "execution_count": 8,
   "metadata": {},
   "outputs": [
    {
     "ename": "NameError",
     "evalue": "name 'data_tensor' is not defined",
     "output_type": "error",
     "traceback": [
      "\u001b[1;31m---------------------------------------------------------------------------\u001b[0m",
      "\u001b[1;31mNameError\u001b[0m                                 Traceback (most recent call last)",
      "Cell \u001b[1;32mIn[8], line 1\u001b[0m\n\u001b[1;32m----> 1\u001b[0m x2 \u001b[38;5;241m=\u001b[39m \u001b[43mdata_tensor\u001b[49m[\u001b[38;5;241m0\u001b[39m][\u001b[38;5;124m'\u001b[39m\u001b[38;5;124mtensor\u001b[39m\u001b[38;5;124m'\u001b[39m][idx]\u001b[38;5;241m.\u001b[39munsqueeze(\u001b[38;5;241m0\u001b[39m)\u001b[38;5;241m.\u001b[39msqueeze(\u001b[38;5;241m0\u001b[39m)\u001b[38;5;241m.\u001b[39mcpu()\u001b[38;5;241m.\u001b[39mdetach()\n\u001b[0;32m      3\u001b[0m DI \u001b[38;5;241m=\u001b[39m x2\u001b[38;5;241m.\u001b[39munsqueeze(\u001b[38;5;241m0\u001b[39m)\u001b[38;5;241m-\u001b[39mx2\u001b[38;5;241m.\u001b[39munsqueeze(\u001b[38;5;241m1\u001b[39m)\n\u001b[0;32m      4\u001b[0m NDI \u001b[38;5;241m=\u001b[39m (x2\u001b[38;5;241m.\u001b[39munsqueeze(\u001b[38;5;241m0\u001b[39m)\u001b[38;5;241m-\u001b[39mx2\u001b[38;5;241m.\u001b[39munsqueeze(\u001b[38;5;241m1\u001b[39m))\u001b[38;5;241m/\u001b[39m(x2\u001b[38;5;241m.\u001b[39munsqueeze(\u001b[38;5;241m0\u001b[39m)\u001b[38;5;241m+\u001b[39mx2\u001b[38;5;241m.\u001b[39munsqueeze(\u001b[38;5;241m1\u001b[39m)\u001b[38;5;241m+\u001b[39m\u001b[38;5;241m1e-5\u001b[39m)\n",
      "\u001b[1;31mNameError\u001b[0m: name 'data_tensor' is not defined"
     ]
    }
   ],
   "source": [
    "x2 = data_tensor[0]['tensor'][idx].unsqueeze(0).squeeze(0).cpu().detach()\n",
    "\n",
    "DI = x2.unsqueeze(0)-x2.unsqueeze(1)\n",
    "NDI = (x2.unsqueeze(0)-x2.unsqueeze(1))/(x2.unsqueeze(0)+x2.unsqueeze(1)+1e-5)\n",
    "RI = x2.unsqueeze(0)/(x2.unsqueeze(1)+x2.unsqueeze(0)+1e-5) \n",
    "\n",
    "# 把DI, NDI, RI作为热图显示出来\n",
    "fig = plt.figure(figsize=(20, 5))\n",
    "\n",
    "# 添加DI的热图\n",
    "plt.subplot(1, 3, 1)\n",
    "sns.heatmap(DI.squeeze(0).cpu().detach().numpy(), cmap='rocket_r')\n",
    "plt.title('DI')\n",
    "\n",
    "# 添加NDI的热图\n",
    "plt.subplot(1, 3, 2)\n",
    "sns.heatmap(NDI.squeeze(0).cpu().detach().numpy(), cmap='rocket_r')\n",
    "plt.title('NDI')\n",
    "\n",
    "# 添加RI的热图\n",
    "plt.subplot(1, 3, 3)\n",
    "sns.heatmap(RI.squeeze(0).cpu().detach().numpy(), cmap='rocket_r')\n",
    "plt.title('RI')\n",
    "\n",
    "# 显示图表\n",
    "plt.show()\n",
    "\n",
    "# 保存图表，文件名称为{}.png, 其中{}为output保留3位小数的字符串\n",
    "fig.savefig('可视化指数_赤铁矿/{}.png'.format(round(output, 3)), dpi=300, bbox_inches='tight')\n"
   ]
  },
  {
   "cell_type": "code",
   "execution_count": null,
   "metadata": {},
   "outputs": [
    {
     "data": {
      "text/plain": [
       "torch.Size([168, 168])"
      ]
     },
     "execution_count": 238,
     "metadata": {},
     "output_type": "execute_result"
    },
    {
     "ename": "",
     "evalue": "",
     "output_type": "error",
     "traceback": [
      "\u001b[1;31mThe Kernel crashed while executing code in the current cell or a previous cell. \n",
      "\u001b[1;31mPlease review the code in the cell(s) to identify a possible cause of the failure. \n",
      "\u001b[1;31mClick <a href='https://aka.ms/vscodeJupyterKernelCrash'>here</a> for more info. \n",
      "\u001b[1;31mView Jupyter <a href='command:jupyter.viewOutput'>log</a> for further details."
     ]
    }
   ],
   "source": [
    "DI.shape"
   ]
  }
 ],
 "metadata": {
  "kernelspec": {
   "display_name": "SI-NET",
   "language": "python",
   "name": "python3"
  },
  "language_info": {
   "codemirror_mode": {
    "name": "ipython",
    "version": 3
   },
   "file_extension": ".py",
   "mimetype": "text/x-python",
   "name": "python",
   "nbconvert_exporter": "python",
   "pygments_lexer": "ipython3",
   "version": "3.8.19"
  }
 },
 "nbformat": 4,
 "nbformat_minor": 2
}
