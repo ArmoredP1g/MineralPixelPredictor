{
 "cells": [
  {
   "cell_type": "markdown",
   "metadata": {},
   "source": [
    "# 生成普通RGB图片，用于制作mask"
   ]
  },
  {
   "cell_type": "code",
   "execution_count": null,
   "metadata": {},
   "outputs": [],
   "source": [
    "import spectral\n",
    "from spectral import imshow\n",
    "import torch\n",
    "import os\n",
    "import numpy as np\n",
    "from PIL import Image"
   ]
  },
  {
   "cell_type": "code",
   "execution_count": null,
   "metadata": {},
   "outputs": [],
   "source": [
    "included_extensions = ['hdr']\n",
    "data_dir = 'E:\\\\d盘备份\\\\补充'\n",
    "\n",
    "hdr_files = [fn for fn in os.listdir(data_dir) if any(fn.endswith(ext) for ext in included_extensions)]"
   ]
  },
  {
   "cell_type": "code",
   "execution_count": null,
   "metadata": {},
   "outputs": [],
   "source": [
    "for i in hdr_files:\n",
    "    img = spectral.envi.open(data_dir+\"/\"+i)\n",
    "    view = imshow(img)\n",
    "    Image.fromarray(np.uint8(view.data_rgb*255)).save(data_dir+\"/\"+i+\"_mask.png\", \"PNG\")\n"
   ]
  },
  {
   "cell_type": "markdown",
   "metadata": {},
   "source": [
    "# 看看用多大的窗口取平均效果比较好"
   ]
  },
  {
   "cell_type": "code",
   "execution_count": null,
   "metadata": {},
   "outputs": [],
   "source": [
    "import spectral\n",
    "import torch\n",
    "import seaborn as sns\n",
    "import ast\n",
    "from spectral import imshow\n",
    "from matplotlib.pyplot import MultipleLocator\n",
    "import matplotlib.pyplot as plt"
   ]
  },
  {
   "cell_type": "code",
   "execution_count": null,
   "metadata": {},
   "outputs": [],
   "source": [
    "img.shape # 行 列 通道"
   ]
  },
  {
   "cell_type": "code",
   "execution_count": null,
   "metadata": {},
   "outputs": [],
   "source": [
    "ast.literal_eval(img.metadata['gt_tfe'])"
   ]
  },
  {
   "cell_type": "code",
   "execution_count": null,
   "metadata": {},
   "outputs": [],
   "source": [
    "imshow(img)"
   ]
  },
  {
   "cell_type": "code",
   "execution_count": null,
   "metadata": {},
   "outputs": [],
   "source": [
    "img = spectral.envi.open(\"D:\\\\new\\\\9-Radiance From Raw Data-Reflectance from Radiance Data and Measured Reference Spectrum.bip.hdr\")\n",
    "img_data = torch.Tensor(img.asarray()/6000)"
   ]
  },
  {
   "cell_type": "code",
   "execution_count": null,
   "metadata": {},
   "outputs": [],
   "source": [
    "x = img_data[750-5:750+5, 500-5:500+5,:].mean(dim=(0,1))\n",
    "DI = x.unsqueeze(0)-x.unsqueeze(1)  # [batch, 304, 304]\n",
    "NDI = (x.unsqueeze(0)-x.unsqueeze(1))/(x.unsqueeze(0)+x.unsqueeze(1)+1e-5)"
   ]
  },
  {
   "cell_type": "code",
   "execution_count": null,
   "metadata": {},
   "outputs": [],
   "source": [
    "DI.shape"
   ]
  },
  {
   "cell_type": "code",
   "execution_count": null,
   "metadata": {},
   "outputs": [],
   "source": [
    "sns.heatmap(torch.abs(NDI).numpy(), cmap=\"viridis\", xticklabels=False, yticklabels=False)"
   ]
  },
  {
   "cell_type": "code",
   "execution_count": null,
   "metadata": {},
   "outputs": [],
   "source": [
    "plt.rcParams['figure.figsize'] = 14,11\n",
    "sns.heatmap(torch.abs(DI).numpy(), cmap=\"viridis\", xticklabels=False, yticklabels=False)"
   ]
  },
  {
   "cell_type": "code",
   "execution_count": null,
   "metadata": {},
   "outputs": [],
   "source": [
    "plt.rcParams['font.sans-serif']=['SimHei'] #用来正常显示中文标签\n",
    "plt.rcParams['axes.unicode_minus'] = False #用来正常显示负号\n",
    "\n",
    "wave_len = img.metadata['wavelength']\n",
    "\n",
    "plt.rcParams[\"figure.figsize\"] = (20,6)\n",
    "fig, axs = plt.subplots()\n",
    "\n",
    "axs.set_xlabel(\"波长\")\n",
    "axs.set_ylabel(\"反射率\")\n",
    "axs.xaxis.set_major_locator(MultipleLocator(100))\n",
    "\n",
    "# axs.plot(wave_len, img_data[10-5:10+5, 10-5:10+5,:].mean(dim=(0,1)))\n",
    "axs.plot(wave_len, img_data[750-5:750+5, 500-5:500+5,:].mean(dim=(0,1)))\n",
    "# axs.plot(wave_len, img_data[750-5:750+5, 600-5:600+5,:].mean(dim=(0,1)))\n",
    "# axs.plot(wave_len, img_data[750-5:750+5, 700-5:700+5,:].mean(dim=(0,1)))\n",
    "\n",
    "# axs.plot(wave_len, img_data[800-5:800+5, 300-5:300+5,:].mean(dim=(0,1)))\n",
    "# axs.plot(wave_len, img_data[800-5:800+5, 400-5:400+5,:].mean(dim=(0,1)))\n",
    "# axs.plot(wave_len, img_data[800-5:800+5, 500-5:500+5,:].mean(dim=(0,1)))\n",
    "# axs.plot(wave_len, img_data[800-5:800+5, 600-5:600+5,:].mean(dim=(0,1)))\n",
    "# axs.plot(wave_len, img_data[800-5:800+5, 700-5:700+5,:].mean(dim=(0,1)))\n",
    "\n",
    "# axs.plot(wave_len, img_data[900-5:900+5, 300-5:300+5,:].mean(dim=(0,1)))\n",
    "# axs.plot(wave_len, img_data[900-5:900+5, 400-5:400+5,:].mean(dim=(0,1)))\n",
    "# axs.plot(wave_len, img_data[900-5:900+5, 500-5:500+5,:].mean(dim=(0,1)))\n",
    "# axs.plot(wave_len, img_data[900-5:900+5, 600-5:600+5,:].mean(dim=(0,1)))\n",
    "# axs.plot(wave_len, img_data[900-5:900+5, 700-5:700+5,:].mean(dim=(0,1)))\n",
    "\n",
    "# axs.plot(wave_len, img_data[1000-5:1000+5, 300-5:300+5,:].mean(dim=(0,1)))\n",
    "# axs.plot(wave_len, img_data[1000-5:1000+5, 400-5:400+5,:].mean(dim=(0,1)))\n",
    "# axs.plot(wave_len, img_data[1000-5:1000+5, 500-5:500+5,:].mean(dim=(0,1)))\n",
    "# axs.plot(wave_len, img_data[1000-5:1000+5, 600-5:600+5,:].mean(dim=(0,1)))\n",
    "# axs.plot(wave_len, img_data[1000-5:1000+5, 700-5:700+5,:].mean(dim=(0,1)))\n",
    "\n",
    "# axs.plot(wave_len, img_data[1100-5:1100+5, 300-5:300+5,:].mean(dim=(0,1)))\n",
    "# axs.plot(wave_len, img_data[1100-5:1100+5, 400-5:400+5,:].mean(dim=(0,1)))\n",
    "# axs.plot(wave_len, img_data[1100-5:1100+5, 500-5:500+5,:].mean(dim=(0,1)))\n",
    "# axs.plot(wave_len, img_data[1100-5:1100+5, 600-5:600+5,:].mean(dim=(0,1)))\n",
    "# axs.plot(wave_len, img_data[1100-5:1100+5, 700-5:700+5,:].mean(dim=(0,1)))\n",
    "\n",
    "plt.show()\n",
    "        "
   ]
  },
  {
   "cell_type": "code",
   "execution_count": null,
   "metadata": {},
   "outputs": [],
   "source": [
    "plt.rcParams['font.sans-serif']=['SimHei'] #用来正常显示中文标签\n",
    "plt.rcParams['axes.unicode_minus'] = False #用来正常显示负号\n",
    "\n",
    "wave_len = img.metadata['wavelength']\n",
    "\n",
    "plt.rcParams[\"figure.figsize\"] = (30,9)\n",
    "fig, axs = plt.subplots()\n",
    "\n",
    "axs.set_xlabel(\"波长\")\n",
    "axs.set_ylabel(\"反射率\")\n",
    "axs.xaxis.set_major_locator(MultipleLocator(100))\n",
    "\n",
    "axs.plot(wave_len, img_data[150-5:150+5, 400-5:400+5,:].mean(dim=(0,1)))\n",
    "axs.plot(wave_len, img_data[150-5:150+5, 500-5:500+5,:].mean(dim=(0,1)))\n",
    "axs.plot(wave_len, img_data[150-5:150+5, 600-5:600+5,:].mean(dim=(0,1)))\n",
    "axs.plot(wave_len, img_data[150-5:150+5, 700-5:700+5,:].mean(dim=(0,1)))\n",
    "\n",
    "axs.plot(wave_len, img_data[250-5:250+5, 300-5:300+5,:].mean(dim=(0,1)))\n",
    "axs.plot(wave_len, img_data[250-5:250+5, 400-5:400+5,:].mean(dim=(0,1)))\n",
    "axs.plot(wave_len, img_data[250-5:250+5, 500-5:500+5,:].mean(dim=(0,1)))\n",
    "axs.plot(wave_len, img_data[250-5:250+5, 600-5:600+5,:].mean(dim=(0,1)))\n",
    "axs.plot(wave_len, img_data[250-5:250+5, 700-5:700+5,:].mean(dim=(0,1)))\n",
    "\n",
    "axs.plot(wave_len, img_data[350-5:350+5, 300-5:300+5,:].mean(dim=(0,1)))\n",
    "axs.plot(wave_len, img_data[350-5:350+5, 400-5:400+5,:].mean(dim=(0,1)))\n",
    "axs.plot(wave_len, img_data[350-5:350+5, 500-5:500+5,:].mean(dim=(0,1)))\n",
    "axs.plot(wave_len, img_data[350-5:350+5, 600-5:600+5,:].mean(dim=(0,1)))\n",
    "axs.plot(wave_len, img_data[350-5:350+5, 700-5:700+5,:].mean(dim=(0,1)))\n",
    "\n",
    "axs.plot(wave_len, img_data[450-5:450+5, 300-5:300+5,:].mean(dim=(0,1)))\n",
    "axs.plot(wave_len, img_data[450-5:450+5, 400-5:400+5,:].mean(dim=(0,1)))\n",
    "axs.plot(wave_len, img_data[450-5:450+5, 500-5:500+5,:].mean(dim=(0,1)))\n",
    "axs.plot(wave_len, img_data[450-5:450+5, 600-5:600+5,:].mean(dim=(0,1)))\n",
    "axs.plot(wave_len, img_data[450-5:450+5, 700-5:700+5,:].mean(dim=(0,1)))\n",
    "\n",
    "axs.plot(wave_len, img_data[550-5:550+5, 300-5:300+5,:].mean(dim=(0,1)))\n",
    "axs.plot(wave_len, img_data[550-5:550+5, 400-5:400+5,:].mean(dim=(0,1)))\n",
    "axs.plot(wave_len, img_data[550-5:550+5, 500-5:500+5,:].mean(dim=(0,1)))\n",
    "axs.plot(wave_len, img_data[550-5:550+5, 600-5:600+5,:].mean(dim=(0,1)))\n",
    "axs.plot(wave_len, img_data[550-5:550+5, 700-5:700+5,:].mean(dim=(0,1)))\n",
    "\n",
    "plt.show()"
   ]
  },
  {
   "cell_type": "markdown",
   "metadata": {},
   "source": [
    "# 制作数据集csv文件"
   ]
  },
  {
   "cell_type": "code",
   "execution_count": null,
   "metadata": {},
   "outputs": [],
   "source": [
    "import spectral\n",
    "import pandas as pd\n",
    "import torch\n",
    "import os\n",
    "import numpy as np\n",
    "import h5py\n",
    "import ast\n",
    "from PIL import Image\n",
    "\n",
    "included_extensions = ['hdr']\n",
    "data_dir = 'E:\\\\d盘备份\\\\可见光部分\\\\spectral_data'\n",
    "window_size = 9\n",
    "\n",
    "hdr_files = [fn for fn in os.listdir(data_dir) if any(fn.endswith(ext) for ext in included_extensions)]\n",
    "mask_rgb_values = [[255,242,0],[34,177,76],[255,0,88]]\n",
    "\n",
    "from random import sample\n",
    "\n",
    "spectral.settings.envi_support_nonlowercase_params = True\n",
    "\n",
    "csv_data = []\n",
    "data_id = 0\n",
    "f = h5py.File(\"spectral_data_winsize{}.hdf5\".format(window_size), \"w\", libver='latest')\n",
    "\n",
    "for file_name in hdr_files:\n",
    "    number = file_name.split('-')[0]\n",
    "    img = spectral.envi.open(data_dir+\"/\"+file_name)\n",
    "    gt_TFe = ast.literal_eval(img.metadata['gt_TFe'])\n",
    "    gt_FeO = ast.literal_eval(img.metadata['gt_FeO'])\n",
    "    gt_SiO2 = ast.literal_eval(img.metadata['gt_SiO2'])\n",
    "    gt_F3O4 = ast.literal_eval(img.metadata['gt_F3O4'])\n",
    "    gt_F2O3 = ast.literal_eval(img.metadata['gt_F2O3'])\n",
    "    gt_Fe2_plus = ast.literal_eval(img.metadata['gt_Fe2_plus'])\n",
    "    gt_Fe3_plus = ast.literal_eval(img.metadata['gt_Fe3_plus'])\n",
    "    gt_Magnetic_rate = ast.literal_eval(img.metadata['gt_Magnetic_rate'])\n",
    "    img = torch.Tensor(img.asarray()/6000)\n",
    "    mask = np.array(Image.open(data_dir+\"/\"+file_name+\"_mask.png\"))\n",
    "    r,c,_ = mask.shape\n",
    "\n",
    "\n",
    "    # 都是PNG，但画图处理后的多了一一个维度，3d画图没有，需要额外判断\n",
    "    # 跑了俩小时白玩儿\n",
    "    if mask.shape[2] == 4:\n",
    "        mask = mask[:,:,:-1]\n",
    "\n",
    "    # 压缩数据量\n",
    "    for rgb_idx in range(mask_rgb_values.__len__()):    \n",
    "        data_id_start = data_id     # sample id Start value\n",
    "\n",
    "        for row in range(r-window_size+1):\n",
    "            for col in range(c-window_size+1):\n",
    "                # A valid window is considered \n",
    "                # when the RGB values of the four corners \n",
    "                # of the window match a certain category in MASK\n",
    "\n",
    "                if col%2==0 or row%2==0:\n",
    "                    continue\n",
    "\n",
    "                if mask[row,col].tolist() == mask_rgb_values[rgb_idx] and \\\n",
    "                        mask[row+window_size-1,col].tolist() == mask_rgb_values[rgb_idx] and \\\n",
    "                        mask[row,col+window_size-1].tolist() == mask_rgb_values[rgb_idx] and \\\n",
    "                        mask[row+window_size-1,col+window_size-1].tolist() == mask_rgb_values[rgb_idx]:\n",
    "                    sample_id = \"{}_{}\".format(number,chr(ord('A') + rgb_idx))\n",
    "                    f.create_dataset(str(data_id), data=img[row:row+window_size,col:col+window_size,:].mean(dim=(0,1)).tolist(), dtype=np.float16)\n",
    "                    data_id += 1\n",
    "        if data_id != data_id_start:    # 每张图像样本数量不确定，若该判断不满足不应执行下面操作\n",
    "            csv_data.append({\n",
    "                'sample_id': sample_id,\n",
    "                'dataid_from': str(data_id_start),\n",
    "                'dataid_to': str(data_id-1),\n",
    "                'gt_TFe': gt_TFe[rgb_idx],\n",
    "                'gt_FeO': gt_FeO[rgb_idx],\n",
    "                'gt_SiO2': gt_SiO2[rgb_idx],\n",
    "                'gt_F3O4': gt_F3O4[rgb_idx],\n",
    "                'gt_F2O3': gt_F2O3[rgb_idx],\n",
    "                'gt_Fe2_plus': gt_Fe2_plus[rgb_idx],\n",
    "                'gt_Fe3_plus': gt_Fe3_plus[rgb_idx],\n",
    "                'gt_Magnetic_rate': gt_Magnetic_rate[rgb_idx]\n",
    "            })\n",
    "    print(\"文件‘{}’处理完成\".format(file_name))\n",
    "pd.DataFrame(csv_data, columns=['sample_id','dataid_from','dataid_to','gt_TFe','gt_FeO','gt_SiO2','gt_F3O4','gt_F2O3','gt_Fe2_plus','gt_Fe3_plus','gt_Magnetic_rate']).to_csv(\"spectral_data_winsize{}.csv\".format(window_size))\n",
    "f.close()\n",
    "    "
   ]
  }
 ],
 "metadata": {
  "kernelspec": {
   "display_name": "Python 3.8.13 ('VC')",
   "language": "python",
   "name": "python3"
  },
  "language_info": {
   "codemirror_mode": {
    "name": "ipython",
    "version": 3
   },
   "file_extension": ".py",
   "mimetype": "text/x-python",
   "name": "python",
   "nbconvert_exporter": "python",
   "pygments_lexer": "ipython3",
   "version": "3.8.13 (default, Mar 28 2022, 06:59:08) [MSC v.1916 64 bit (AMD64)]"
  },
  "orig_nbformat": 4,
  "vscode": {
   "interpreter": {
    "hash": "7ea0baf3925bd465c6aa19a150df9563e72327e2391888826ad84e3f30d35a1a"
   }
  }
 },
 "nbformat": 4,
 "nbformat_minor": 2
}
